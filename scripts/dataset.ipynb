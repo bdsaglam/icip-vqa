{
 "cells": [
  {
   "cell_type": "code",
   "execution_count": 1,
   "metadata": {},
   "outputs": [],
   "source": [
    "%load_ext autoreload\n",
    "%autoreload 2"
   ]
  },
  {
   "cell_type": "code",
   "execution_count": 2,
   "metadata": {},
   "outputs": [],
   "source": [
    "from pathlib import Path\n",
    "\n",
    "import numpy as np\n",
    "import pandas as pd\n",
    "\n",
    "from vqa.utils import *\n",
    "from vqa.wrangling import *"
   ]
  },
  {
   "cell_type": "code",
   "execution_count": 3,
   "metadata": {},
   "outputs": [],
   "source": [
    "data_dir = Path('/Users/bdsaglam/knowledge/data-informatics/MMI-711/project/data/frames/398x224')"
   ]
  },
  {
   "cell_type": "code",
   "execution_count": 4,
   "metadata": {},
   "outputs": [],
   "source": [
    "df = (make_dataframe(data_dir / 'train_frames')\n",
    "        .pipe(label_dataframe)\n",
    "        .pipe(make_dataframe_splitter(0.2))\n",
    ")\n",
    "df[['video_name', 'scene', 'label', 'distortion', 'severity', 'is_valid']].to_json('train_val_dataframe.json', orient='records')"
   ]
  },
  {
   "cell_type": "code",
   "execution_count": 5,
   "metadata": {},
   "outputs": [
    {
     "data": {
      "text/html": [
       "<div>\n",
       "<style scoped>\n",
       "    .dataframe tbody tr th:only-of-type {\n",
       "        vertical-align: middle;\n",
       "    }\n",
       "\n",
       "    .dataframe tbody tr th {\n",
       "        vertical-align: top;\n",
       "    }\n",
       "\n",
       "    .dataframe thead th {\n",
       "        text-align: right;\n",
       "    }\n",
       "</style>\n",
       "<table border=\"1\" class=\"dataframe\">\n",
       "  <thead>\n",
       "    <tr style=\"text-align: right;\">\n",
       "      <th></th>\n",
       "      <th>video_path</th>\n",
       "      <th>video_name</th>\n",
       "      <th>scene</th>\n",
       "      <th>label</th>\n",
       "      <th>distortion</th>\n",
       "      <th>severity</th>\n",
       "      <th>is_valid</th>\n",
       "    </tr>\n",
       "  </thead>\n",
       "  <tbody>\n",
       "    <tr>\n",
       "      <th>0</th>\n",
       "      <td>/Users/bdsaglam/knowledge/data-informatics/MMI...</td>\n",
       "      <td>Airport</td>\n",
       "      <td>airport</td>\n",
       "      <td>R_0</td>\n",
       "      <td>R</td>\n",
       "      <td>0</td>\n",
       "      <td>True</td>\n",
       "    </tr>\n",
       "    <tr>\n",
       "      <th>1</th>\n",
       "      <td>/Users/bdsaglam/knowledge/data-informatics/MMI...</td>\n",
       "      <td>Airport_D1_1</td>\n",
       "      <td>airport</td>\n",
       "      <td>D1_1</td>\n",
       "      <td>D1</td>\n",
       "      <td>1</td>\n",
       "      <td>False</td>\n",
       "    </tr>\n",
       "    <tr>\n",
       "      <th>2</th>\n",
       "      <td>/Users/bdsaglam/knowledge/data-informatics/MMI...</td>\n",
       "      <td>Airport_D1_2</td>\n",
       "      <td>airport</td>\n",
       "      <td>D1_2</td>\n",
       "      <td>D1</td>\n",
       "      <td>2</td>\n",
       "      <td>True</td>\n",
       "    </tr>\n",
       "    <tr>\n",
       "      <th>3</th>\n",
       "      <td>/Users/bdsaglam/knowledge/data-informatics/MMI...</td>\n",
       "      <td>Airport_D1_2_D9_2</td>\n",
       "      <td>airport</td>\n",
       "      <td>D1_2,D9_2</td>\n",
       "      <td>D1_D9</td>\n",
       "      <td>2</td>\n",
       "      <td>False</td>\n",
       "    </tr>\n",
       "    <tr>\n",
       "      <th>4</th>\n",
       "      <td>/Users/bdsaglam/knowledge/data-informatics/MMI...</td>\n",
       "      <td>Airport_D1_2_D9_3</td>\n",
       "      <td>airport</td>\n",
       "      <td>D1_2,D9_3</td>\n",
       "      <td>D1_D9</td>\n",
       "      <td>2</td>\n",
       "      <td>False</td>\n",
       "    </tr>\n",
       "    <tr>\n",
       "      <th>...</th>\n",
       "      <td>...</td>\n",
       "      <td>...</td>\n",
       "      <td>...</td>\n",
       "      <td>...</td>\n",
       "      <td>...</td>\n",
       "      <td>...</td>\n",
       "      <td>...</td>\n",
       "    </tr>\n",
       "    <tr>\n",
       "      <th>1120</th>\n",
       "      <td>/Users/bdsaglam/knowledge/data-informatics/MMI...</td>\n",
       "      <td>school_D7_4</td>\n",
       "      <td>school</td>\n",
       "      <td>D7_4</td>\n",
       "      <td>D7</td>\n",
       "      <td>4</td>\n",
       "      <td>True</td>\n",
       "    </tr>\n",
       "    <tr>\n",
       "      <th>1121</th>\n",
       "      <td>/Users/bdsaglam/knowledge/data-informatics/MMI...</td>\n",
       "      <td>school_D9_1</td>\n",
       "      <td>school</td>\n",
       "      <td>D9_1</td>\n",
       "      <td>D9</td>\n",
       "      <td>1</td>\n",
       "      <td>False</td>\n",
       "    </tr>\n",
       "    <tr>\n",
       "      <th>1122</th>\n",
       "      <td>/Users/bdsaglam/knowledge/data-informatics/MMI...</td>\n",
       "      <td>school_D9_2</td>\n",
       "      <td>school</td>\n",
       "      <td>D9_2</td>\n",
       "      <td>D9</td>\n",
       "      <td>2</td>\n",
       "      <td>False</td>\n",
       "    </tr>\n",
       "    <tr>\n",
       "      <th>1123</th>\n",
       "      <td>/Users/bdsaglam/knowledge/data-informatics/MMI...</td>\n",
       "      <td>school_D9_3</td>\n",
       "      <td>school</td>\n",
       "      <td>D9_3</td>\n",
       "      <td>D9</td>\n",
       "      <td>3</td>\n",
       "      <td>False</td>\n",
       "    </tr>\n",
       "    <tr>\n",
       "      <th>1124</th>\n",
       "      <td>/Users/bdsaglam/knowledge/data-informatics/MMI...</td>\n",
       "      <td>school_D9_4</td>\n",
       "      <td>school</td>\n",
       "      <td>D9_4</td>\n",
       "      <td>D9</td>\n",
       "      <td>4</td>\n",
       "      <td>False</td>\n",
       "    </tr>\n",
       "  </tbody>\n",
       "</table>\n",
       "<p>1125 rows × 7 columns</p>\n",
       "</div>"
      ],
      "text/plain": [
       "                                             video_path         video_name  \\\n",
       "0     /Users/bdsaglam/knowledge/data-informatics/MMI...            Airport   \n",
       "1     /Users/bdsaglam/knowledge/data-informatics/MMI...       Airport_D1_1   \n",
       "2     /Users/bdsaglam/knowledge/data-informatics/MMI...       Airport_D1_2   \n",
       "3     /Users/bdsaglam/knowledge/data-informatics/MMI...  Airport_D1_2_D9_2   \n",
       "4     /Users/bdsaglam/knowledge/data-informatics/MMI...  Airport_D1_2_D9_3   \n",
       "...                                                 ...                ...   \n",
       "1120  /Users/bdsaglam/knowledge/data-informatics/MMI...        school_D7_4   \n",
       "1121  /Users/bdsaglam/knowledge/data-informatics/MMI...        school_D9_1   \n",
       "1122  /Users/bdsaglam/knowledge/data-informatics/MMI...        school_D9_2   \n",
       "1123  /Users/bdsaglam/knowledge/data-informatics/MMI...        school_D9_3   \n",
       "1124  /Users/bdsaglam/knowledge/data-informatics/MMI...        school_D9_4   \n",
       "\n",
       "        scene      label distortion severity  is_valid  \n",
       "0     airport        R_0          R        0      True  \n",
       "1     airport       D1_1         D1        1     False  \n",
       "2     airport       D1_2         D1        2      True  \n",
       "3     airport  D1_2,D9_2      D1_D9        2     False  \n",
       "4     airport  D1_2,D9_3      D1_D9        2     False  \n",
       "...       ...        ...        ...      ...       ...  \n",
       "1120   school       D7_4         D7        4      True  \n",
       "1121   school       D9_1         D9        1     False  \n",
       "1122   school       D9_2         D9        2     False  \n",
       "1123   school       D9_3         D9        3     False  \n",
       "1124   school       D9_4         D9        4     False  \n",
       "\n",
       "[1125 rows x 7 columns]"
      ]
     },
     "execution_count": 5,
     "metadata": {},
     "output_type": "execute_result"
    }
   ],
   "source": [
    "df"
   ]
  },
  {
   "cell_type": "code",
   "execution_count": 8,
   "metadata": {},
   "outputs": [
    {
     "data": {
      "text/plain": [
       "((73,), (19,), (5,))"
      ]
     },
     "execution_count": 8,
     "metadata": {},
     "output_type": "execute_result"
    }
   ],
   "source": [
    "df.label.unique().shape,df.distortion.unique().shape,df.severity.unique().shape"
   ]
  },
  {
   "cell_type": "code",
   "execution_count": null,
   "metadata": {},
   "outputs": [],
   "source": []
  }
 ],
 "metadata": {
  "interpreter": {
   "hash": "6a4bc1d03abe580ee77ba373966edcacc7421cca4f2752840dc62dfc49988e1c"
  },
  "kernelspec": {
   "display_name": "Python 3.9.12 ('vqa')",
   "language": "python",
   "name": "python3"
  },
  "language_info": {
   "codemirror_mode": {
    "name": "ipython",
    "version": 3
   },
   "file_extension": ".py",
   "mimetype": "text/x-python",
   "name": "python",
   "nbconvert_exporter": "python",
   "pygments_lexer": "ipython3",
   "version": "3.9.12"
  },
  "orig_nbformat": 4
 },
 "nbformat": 4,
 "nbformat_minor": 2
}
