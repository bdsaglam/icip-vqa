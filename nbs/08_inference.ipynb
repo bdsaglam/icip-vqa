{
 "cells": [
  {
   "cell_type": "code",
   "execution_count": null,
   "metadata": {},
   "outputs": [],
   "source": [
    "# default_exp inference"
   ]
  },
  {
   "cell_type": "markdown",
   "metadata": {},
   "source": [
    "# Inference"
   ]
  },
  {
   "cell_type": "code",
   "execution_count": null,
   "metadata": {},
   "outputs": [],
   "source": [
    "#hide\n",
    "from fastcore.test import *\n",
    "from nbdev.showdoc import *"
   ]
  },
  {
   "cell_type": "code",
   "execution_count": null,
   "metadata": {},
   "outputs": [],
   "source": [
    "#export\n",
    "\n",
    "import numpy as np\n",
    "from fastai.basics import *"
   ]
  },
  {
   "cell_type": "code",
   "execution_count": null,
   "metadata": {},
   "outputs": [],
   "source": [
    "#export\n",
    "\n",
    "from vqa.wrangling import make_dataframe, label_dataframe, make_framer\n",
    "\n",
    "def make_test_dataframe(root, frame_indices_list):\n",
    "    return (\n",
    "        make_dataframe(root)\n",
    "        .pipe(label_dataframe)\n",
    "        .pipe(make_framer(frame_indices_list))\n",
    "    )"
   ]
  },
  {
   "cell_type": "code",
   "execution_count": null,
   "metadata": {},
   "outputs": [],
   "source": [
    "#export\n",
    "\n",
    "from scipy.stats import mode\n",
    "\n",
    "most_freq = lambda seq: mode(seq)[0][0]\n",
    "\n",
    "def decode_preds(vocabs, preds):\n",
    "    for item_preds in zip(pred.cpu().numpy() for pred in preds):\n",
    "        yield [vocab[p] for vocab, p in zip(vocabs, item_preds)]\n",
    "\n",
    "def fill_preds(dataf, dls, preds):\n",
    "    pred_distortion, pred_severity =  list(zip(*list(decode_preds(dls, preds))))\n",
    "    dataf['distortion_preds'] = pred_distortion\n",
    "    dataf['severity_preds'] = pred_severity\n",
    "    return dataf\n",
    "\n",
    "def aggregate_preds(dataf):\n",
    "    idf = dataf.groupby(by='video_name').agg({\n",
    "        'distortion': first, \n",
    "        'distortion_preds': list, \n",
    "        'severity': first, \n",
    "        'severity_preds': list, \n",
    "    })\n",
    "    idf['distortion_inference'] = idf['distortion_preds'].apply(most_freq)\n",
    "    idf['severity_inference'] = idf['severity_preds'].apply(most_freq)\n",
    "    return idf\n",
    "\n",
    "def format_pred(pred):\n",
    "    distortions = pred[0].split(\"_\")\n",
    "    if len(distortions)==0:\n",
    "        return ''\n",
    "    severity = pred[1]\n",
    "    return ','.join(sorted([f\"{distortion[1]}_{severity[1]}\" for distortion in distortions]))\n",
    "\n",
    "def make_submission(distortion, severity):\n",
    "    out = '\\n'.join(L(zip(distortion, severity)).map(format_pred))\n",
    "    with open('predict.txt', 'w') as f:\n",
    "        f.write(out)\n",
    "    return out"
   ]
  },
  {
   "cell_type": "code",
   "execution_count": null,
   "metadata": {},
   "outputs": [],
   "source": []
  }
 ],
 "metadata": {
  "kernelspec": {
   "display_name": "Python 3.9.12 ('vqa')",
   "language": "python",
   "name": "python3"
  }
 },
 "nbformat": 4,
 "nbformat_minor": 2
}
