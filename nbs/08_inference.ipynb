{
 "cells": [
  {
   "cell_type": "code",
   "execution_count": null,
   "metadata": {},
   "outputs": [],
   "source": [
    "# default_exp inference"
   ]
  },
  {
   "cell_type": "markdown",
   "metadata": {},
   "source": [
    "# Inference"
   ]
  },
  {
   "cell_type": "code",
   "execution_count": null,
   "metadata": {},
   "outputs": [],
   "source": [
    "#hide\n",
    "from fastcore.test import *\n",
    "from nbdev.showdoc import *"
   ]
  },
  {
   "cell_type": "code",
   "execution_count": null,
   "metadata": {},
   "outputs": [],
   "source": [
    "#export\n",
    "\n",
    "import numpy as np\n",
    "from fastai.basics import *"
   ]
  },
  {
   "cell_type": "code",
   "execution_count": null,
   "metadata": {},
   "outputs": [],
   "source": [
    "#export\n",
    "\n",
    "from scipy.stats import mode\n",
    "\n",
    "most_freq = lambda seq: mode(seq)[0][0]\n",
    "\n",
    "def decode_preds(vocabs, preds):\n",
    "    for distortion, severity in zip(preds[0].cpu().numpy(), preds[1].cpu().numpy()):\n",
    "        yield vocabs[0][distortion], vocabs[1][severity]\n",
    "\n",
    "def fill_preds(dataf, vocabs, preds):\n",
    "    pred_distortion, pred_severity =  list(zip(*list(decode_preds(vocabs, preds))))\n",
    "    dataf['distortion_preds'] = pred_distortion\n",
    "    dataf['severity_preds'] = pred_severity\n",
    "    return dataf\n",
    "\n",
    "def aggregate_preds(dataf):\n",
    "    idf = dataf.groupby(by='video_name').agg({\n",
    "        'distortion': first, \n",
    "        'distortion_preds': list, \n",
    "        'severity': first, \n",
    "        'severity_preds': list, \n",
    "    })\n",
    "    idf['distortion_inference'] = idf['distortion_preds'].apply(most_freq)\n",
    "    idf['severity_inference'] = idf['severity_preds'].apply(most_freq)\n",
    "    return idf\n",
    "\n",
    "def format_pred(pred):\n",
    "    distortions = pred[0].split(\"_\")\n",
    "    if len(distortions)==0:\n",
    "        return ''\n",
    "    severity = pred[1]\n",
    "    return ','.join(sorted([f\"{distortion[1]}_{severity}\" for distortion in distortions]))\n",
    "\n",
    "def get_test_inferences(dls, learn, tst_df):\n",
    "    tst_dl = dls.test_dl(tst_df)\n",
    "    tst_learn = Learner(\n",
    "        dls, \n",
    "        learn.model,\n",
    "        loss_func=learn.loss_func,\n",
    "        splitter=learn.model.splitter\n",
    "    )\n",
    "    probs, targets, preds = tst_learn.get_preds(dl=tst_dl, with_decoded=True)\n",
    "    inference_df = aggregate_preds(fill_preds(tst_df, dls.vocab, preds))\n",
    "    return inference_df\n",
    "\n",
    "def make_submission_preds(distortion, severity):\n",
    "    return L(zip(distortion, severity)).map(format_pred)"
   ]
  },
  {
   "cell_type": "code",
   "execution_count": null,
   "metadata": {},
   "outputs": [],
   "source": [
    "#hide\n",
    "test_eq(format_pred((\"D1_D5\", \"4\")), '1_4,5_4')\n",
    "test_eq(format_pred((\"D1\", \"1\")), '1_1')"
   ]
  },
  {
   "cell_type": "code",
   "execution_count": null,
   "metadata": {},
   "outputs": [],
   "source": []
  }
 ],
 "metadata": {
  "kernelspec": {
   "display_name": "Python 3.9.12 ('vqa')",
   "language": "python",
   "name": "python3"
  }
 },
 "nbformat": 4,
 "nbformat_minor": 2
}
