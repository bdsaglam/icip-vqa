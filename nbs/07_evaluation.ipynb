{
 "cells": [
  {
   "cell_type": "code",
   "execution_count": null,
   "metadata": {},
   "outputs": [],
   "source": [
    "# default_exp evaluation"
   ]
  },
  {
   "cell_type": "markdown",
   "metadata": {},
   "source": [
    "# Evaluation"
   ]
  },
  {
   "cell_type": "code",
   "execution_count": null,
   "metadata": {},
   "outputs": [],
   "source": [
    "#hide\n",
    "from fastcore.test import *\n",
    "from nbdev.showdoc import *"
   ]
  },
  {
   "cell_type": "code",
   "execution_count": null,
   "metadata": {},
   "outputs": [],
   "source": [
    "#export\n",
    "\n",
    "import matplotlib.pyplot as plt\n",
    "from fastai.basics import *"
   ]
  },
  {
   "cell_type": "code",
   "execution_count": null,
   "metadata": {},
   "outputs": [],
   "source": [
    "#export\n",
    "\n",
    "import warnings\n",
    "from sklearn.exceptions import UndefinedMetricWarning\n",
    "from sklearn.metrics import classification_report, ConfusionMatrixDisplay\n",
    "from fastai.metrics import F1Score, accuracy\n",
    "\n",
    "warnings.filterwarnings(action='ignore', category=UndefinedMetricWarning, module=r'.*')\n",
    "\n",
    "def evaluate_mtl(vocabs, targets, preds, show=False):\n",
    "    for vocab, target, pred in zip(vocabs, targets, preds):\n",
    "        label_indices = list(range(len(vocab)))\n",
    "        y_true, y_pred = target.cpu().numpy(), pred.cpu().numpy()\n",
    "        clf_report = classification_report(y_true, y_pred, labels=label_indices, target_names=vocab)\n",
    "        if show:\n",
    "            print(clf_report)\n",
    "            fig, ax = plt.subplots(figsize=(16, 12))\n",
    "            ConfusionMatrixDisplay.from_predictions(y_true, y_pred, labels=label_indices, display_labels=vocab, ax=ax)\n",
    "    \n",
    "    distortion_f1_macro = F1Score(average='macro')(preds[0], targets[0])\n",
    "    distortion_accuracy = accuracy(probs[0], targets[0])\n",
    "    severity_accuracy = accuracy(probs[1], targets[1])\n",
    "    return dict(\n",
    "        classification_report=clf_report,\n",
    "        distortion_f1_macro=distortion_f1_macro,\n",
    "        distortion_accuracy=distortion_accuracy,\n",
    "        severity_accuracy=severity_accuracy,\n",
    "    )"
   ]
  },
  {
   "cell_type": "code",
   "execution_count": null,
   "metadata": {},
   "outputs": [],
   "source": []
  }
 ],
 "metadata": {
  "kernelspec": {
   "display_name": "Python 3.9.12 ('vqa')",
   "language": "python",
   "name": "python3"
  }
 },
 "nbformat": 4,
 "nbformat_minor": 2
}
