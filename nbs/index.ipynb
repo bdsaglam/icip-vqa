{
 "cells": [
  {
   "cell_type": "markdown",
   "metadata": {},
   "source": [
    "# Video Quality Assessment with deep learning\n",
    "\n",
    "> Video Quality Assessment with deep learning."
   ]
  },
  {
   "cell_type": "markdown",
   "metadata": {},
   "source": [
    "## Install\n",
    "\n",
    "```sh\n",
    "git clone https://github.com/bdsaglam/icip-vqa\n",
    "cd icip-vqa\n",
    "pip install .[dev]\n",
    "```"
   ]
  },
  {
   "cell_type": "markdown",
   "metadata": {},
   "source": [
    "## Run experiment"
   ]
  },
  {
   "cell_type": "markdown",
   "metadata": {},
   "source": [
    "Prepare a config file, see example config in `./scripts/` directory.\n",
    "\n",
    "```sh\n",
    "wandb login --relogin\n",
    "python ./scripts/experiment.py --cfg /path/to/config.json\n",
    "```"
   ]
  }
 ],
 "metadata": {
  "kernelspec": {
   "display_name": "Python 3",
   "language": "python",
   "name": "python3"
  }
 },
 "nbformat": 4,
 "nbformat_minor": 2
}
