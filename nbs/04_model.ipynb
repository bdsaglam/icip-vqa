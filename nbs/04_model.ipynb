{
 "cells": [
  {
   "cell_type": "code",
   "execution_count": null,
   "metadata": {},
   "outputs": [],
   "source": [
    "# default_exp model"
   ]
  },
  {
   "cell_type": "markdown",
   "metadata": {},
   "source": [
    "# Model and loss function"
   ]
  },
  {
   "cell_type": "code",
   "execution_count": null,
   "metadata": {},
   "outputs": [],
   "source": [
    "#hide\n",
    "from fastcore.test import *\n",
    "from nbdev.showdoc import *"
   ]
  },
  {
   "cell_type": "code",
   "execution_count": null,
   "metadata": {},
   "outputs": [],
   "source": [
    "#export\n",
    "from pathlib import Path\n",
    "from fastai.basics import *"
   ]
  },
  {
   "cell_type": "code",
   "execution_count": null,
   "metadata": {},
   "outputs": [],
   "source": [
    "#export\n",
    "\n",
    "class CombinedLoss():\n",
    "    def __init__(self, *loss_funcs, weight=None):\n",
    "        if weight is None:\n",
    "            weight = [1.]*len(loss_funcs)\n",
    "        self.weight = weight\n",
    "        self.loss_funcs = loss_funcs\n",
    "    \n",
    "    def __call__(self, outs, *targets, **kwargs):\n",
    "        return sum([\n",
    "            w*loss_func(out, target) \n",
    "            for loss_func, w, out, target in zip(self.loss_funcs, self.weight, outs, targets)\n",
    "        ])\n",
    "    \n",
    "    def activation(self, outs): \n",
    "        return (getattr(loss_func, 'activation', noop)(out) for loss_func, out in zip(self.loss_funcs, outs))\n",
    "    \n",
    "    def decodes(self, outs):\n",
    "        return (getattr(loss_func, 'decodes', noop)(out) for loss_func, out in zip(self.loss_funcs, outs))\n",
    "    "
   ]
  },
  {
   "cell_type": "code",
   "execution_count": null,
   "metadata": {},
   "outputs": [],
   "source": []
  }
 ],
 "metadata": {
  "kernelspec": {
   "display_name": "Python 3",
   "language": "python",
   "name": "python3"
  }
 },
 "nbformat": 4,
 "nbformat_minor": 2
}
