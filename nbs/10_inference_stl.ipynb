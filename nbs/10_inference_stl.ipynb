{
 "cells": [
  {
   "cell_type": "code",
   "execution_count": null,
   "metadata": {},
   "outputs": [],
   "source": [
    "# default_exp inference_stl"
   ]
  },
  {
   "cell_type": "markdown",
   "metadata": {},
   "source": [
    "# Inference for single-task learning"
   ]
  },
  {
   "cell_type": "code",
   "execution_count": null,
   "metadata": {},
   "outputs": [],
   "source": [
    "#hide\n",
    "from fastcore.test import *\n",
    "from nbdev.showdoc import *"
   ]
  },
  {
   "cell_type": "code",
   "execution_count": null,
   "metadata": {},
   "outputs": [],
   "source": [
    "#export\n",
    "\n",
    "import numpy as np\n",
    "from fastai.basics import *\n",
    "from vqa.utils import most_common"
   ]
  },
  {
   "cell_type": "code",
   "execution_count": null,
   "metadata": {},
   "outputs": [],
   "source": [
    "#export\n",
    "\n",
    "def get_test_inferences(dls, learn, tst_df):\n",
    "    tst_dl = dls.test_dl(tst_df)\n",
    "    tst_learn = Learner(\n",
    "        dls,\n",
    "        learn.model,\n",
    "        loss_func=learn.loss_func,\n",
    "        splitter=learn.model.splitter\n",
    "    )\n",
    "    probs, targets, preds = tst_learn.get_preds(dl=tst_dl, with_decoded=True)\n",
    "    \n",
    "    inference_df = tst_df.copy()\n",
    "    inference_df['preds'] = np.array(dls.vocab)[preds.cpu().numpy()]\n",
    "    inference_df = inference_df.groupby(by='video_name').agg({\n",
    "        'label': first,\n",
    "        'preds': list,\n",
    "    })\n",
    "    inference_df['pred'] = inference_df['preds'].apply(most_common)\n",
    "    return inference_df\n",
    "\n",
    "def make_submission_preds(preds):\n",
    "    return [','.join(sorted(ds[1:] for ds in pred.split(','))) for pred in preds]\n"
   ]
  },
  {
   "cell_type": "code",
   "execution_count": null,
   "metadata": {},
   "outputs": [],
   "source": [
    "#hide\n",
    "test_eq(make_submission_preds([\"D1_1,D5_4\"]), ['1_1,5_4'])\n",
    "test_eq(make_submission_preds([\"D3_2,D8_1,D5_4\"]), ['3_2,5_4,8_1'])\n",
    "test_eq(make_submission_preds([\"D2_3\"]), ['2_3'])"
   ]
  },
  {
   "cell_type": "code",
   "execution_count": null,
   "metadata": {},
   "outputs": [],
   "source": []
  }
 ],
 "metadata": {
  "kernelspec": {
   "display_name": "Python 3.9.12 ('vqa')",
   "language": "python",
   "name": "python3"
  }
 },
 "nbformat": 4,
 "nbformat_minor": 2
}
