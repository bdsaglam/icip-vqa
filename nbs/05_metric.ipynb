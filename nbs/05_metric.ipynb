{
 "cells": [
  {
   "cell_type": "code",
   "execution_count": null,
   "metadata": {},
   "outputs": [],
   "source": [
    "# default_exp metric"
   ]
  },
  {
   "cell_type": "markdown",
   "metadata": {},
   "source": [
    "# Metric"
   ]
  },
  {
   "cell_type": "code",
   "execution_count": null,
   "metadata": {},
   "outputs": [],
   "source": [
    "#hide\n",
    "from fastcore.test import *\n",
    "from nbdev.showdoc import *"
   ]
  },
  {
   "cell_type": "code",
   "execution_count": null,
   "metadata": {},
   "outputs": [],
   "source": [
    "#export\n",
    "\n",
    "from types import MethodType\n",
    "from fastcore.basics import GetAttr\n",
    "from fastai.metrics import Metric, AvgMetric\n",
    "\n",
    "\n",
    "class LearnerProxy(GetAttr):\n",
    "    _default = 'learn'\n",
    "    def __init__(self, learn, idx):\n",
    "        self.learn = learn\n",
    "        self.idx = idx\n",
    "        self.pred = self.learn.pred[idx]\n",
    "        self.y = self.learn.y[idx]\n",
    "\n",
    "\n",
    "def route_to_metric(idx, metric):\n",
    "    if isinstance(metric, type): \n",
    "        metric = metric()\n",
    "    if not isinstance(metric, Metric):\n",
    "        func = lambda preds, *targs, **kwargs: metric(preds[idx], targs[idx], **kwargs)\n",
    "        func.__name__ = metric.__name__\n",
    "        return AvgMetric(func)\n",
    "    accumulate = metric.accumulate\n",
    "    metric.accumulate = MethodType(lambda self, learn: accumulate(LearnerProxy(learn, idx)), metric)\n",
    "    call = metric.__call__\n",
    "    metric.__call__ = MethodType(lambda self, preds, targs: call(preds[idx], targs[idx]), metric)\n",
    "    return metric"
   ]
  },
  {
   "cell_type": "code",
   "execution_count": null,
   "metadata": {},
   "outputs": [],
   "source": []
  }
 ],
 "metadata": {
  "kernelspec": {
   "display_name": "Python 3.9.12 ('vqa')",
   "language": "python",
   "name": "python3"
  }
 },
 "nbformat": 4,
 "nbformat_minor": 2
}
