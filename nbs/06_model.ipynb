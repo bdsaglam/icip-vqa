{
 "cells": [
  {
   "cell_type": "code",
   "execution_count": null,
   "metadata": {},
   "outputs": [],
   "source": [
    "# default_exp model"
   ]
  },
  {
   "cell_type": "markdown",
   "metadata": {},
   "source": [
    "# Model"
   ]
  },
  {
   "cell_type": "code",
   "execution_count": null,
   "metadata": {},
   "outputs": [],
   "source": [
    "#hide\n",
    "from fastcore.test import *\n",
    "from nbdev.showdoc import *"
   ]
  },
  {
   "cell_type": "code",
   "execution_count": null,
   "metadata": {},
   "outputs": [],
   "source": [
    "#export\n",
    "import torch\n",
    "import torch.nn as nn\n",
    "from fastai.basics import *\n",
    "from fastai.vision.all import *"
   ]
  },
  {
   "cell_type": "code",
   "execution_count": null,
   "metadata": {},
   "outputs": [],
   "source": [
    "#export\n",
    "\n",
    "class BaselineMTM(Module):\n",
    "    def __init__(self, arch, n_distortion, n_sev, pretrained=True):\n",
    "        store_attr()\n",
    "        self.encoder = TimeDistributed(create_body(arch, pretrained=pretrained))\n",
    "        n_features = dummy_eval(self.encoder.module, (300, 300)).shape[1]\n",
    "        self.head = TimeDistributed(create_head(n_features, n_distortion + n_sev))\n",
    "    \n",
    "    def forward(self, x):\n",
    "        feature_map = self.encoder(torch.stack(x, dim=1))\n",
    "        out = self.head(feature_map).mean(dim=1)\n",
    "        return [out[:, :self.n_distortion], out[:, self.n_distortion:]]\n",
    "   \n",
    "    @staticmethod\n",
    "    def splitter(model): \n",
    "        return [params(model.encoder), params(model.head)]"
   ]
  },
  {
   "cell_type": "code",
   "execution_count": null,
   "metadata": {},
   "outputs": [],
   "source": [
    "#export\n",
    "\n",
    "class MultiScaleBackbone(Module):\n",
    "    def __init__(self, arch, pretrained=True):\n",
    "        store_attr()\n",
    "        self.backbone = create_body(arch, pretrained=pretrained)\n",
    "        self.hooks = hook_outputs(list(self.backbone.children())[4:-1], detach=False)\n",
    "    \n",
    "    def forward(self, x):\n",
    "        feat_map_last = self.backbone(x)\n",
    "        feat_maps = self.hooks.stored\n",
    "        return torch.cat([AdaptiveConcatPool2d()(fm) for fm in [*feat_maps, feat_map_last]], dim=1)\n",
    "    \n",
    "class MultiScaleMTM(Module):\n",
    "    def __init__(self, arch, n_distortion, n_sev, pretrained=True):\n",
    "        store_attr()\n",
    "        self.encoder = TimeDistributed(MultiScaleBackbone(arch, pretrained=pretrained))\n",
    "        n_features = dummy_eval(self.encoder.module, (300, 300)).shape[1]\n",
    "        self.head = TimeDistributed(create_head(n_features, n_distortion + n_sev))\n",
    "    \n",
    "    def forward(self, x):\n",
    "        x = torch.stack(x, dim=1)\n",
    "        feature_map = self.encoder(x)\n",
    "        out = self.head(feature_map).mean(dim=1)\n",
    "        return [out[:, :self.n_distortion], out[:, self.n_distortion:]]\n",
    "   \n",
    "    @staticmethod\n",
    "    def splitter(model): \n",
    "        return [params(model.encoder), params(model.head)]"
   ]
  },
  {
   "cell_type": "code",
   "execution_count": null,
   "metadata": {},
   "outputs": [],
   "source": [
    "#export\n",
    "\n",
    "class SeqMTM(Module):\n",
    "    def __init__(self, arch, n_distortion, n_sev, num_rnn_layers=1, pretrained=True):\n",
    "        store_attr()\n",
    "        self.encoder = TimeDistributed(nn.Sequential(\n",
    "            create_body(arch, pretrained=pretrained), \n",
    "            nn.AdaptiveAvgPool2d(1), \n",
    "            Flatten()\n",
    "        ))\n",
    "        n_features = dummy_eval(self.encoder.module, (300, 300)).shape[1]\n",
    "        self.rnn = nn.LSTM(n_features, n_features, num_layers=num_rnn_layers, batch_first=True)\n",
    "        self.head = LinBnDrop(num_rnn_layers * n_features, n_distortion + n_sev)\n",
    "    \n",
    "    def forward(self, x):\n",
    "        x = self.encoder(torch.stack(x, dim=1))\n",
    "        bs = x.shape[0]\n",
    "        _, (h, _) = self.rnn(x)\n",
    "        out = self.head(h.view(bs,-1))\n",
    "        return out[:, :self.n_distortion], out[:, self.n_distortion:]\n",
    "    \n",
    "    @staticmethod\n",
    "    def splitter(model):\n",
    "        return [params(model.encoder), params(model.rnn) + params(model.head)]"
   ]
  },
  {
   "cell_type": "code",
   "execution_count": null,
   "metadata": {},
   "outputs": [],
   "source": []
  }
 ],
 "metadata": {
  "kernelspec": {
   "display_name": "Python 3.9.12 ('vqa')",
   "language": "python",
   "name": "python3"
  }
 },
 "nbformat": 4,
 "nbformat_minor": 2
}
