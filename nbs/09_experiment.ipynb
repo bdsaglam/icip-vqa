{
 "cells": [
  {
   "cell_type": "code",
   "execution_count": null,
   "metadata": {},
   "outputs": [],
   "source": [
    "# default_exp experiment"
   ]
  },
  {
   "cell_type": "markdown",
   "metadata": {},
   "source": [
    "# Experiment utils"
   ]
  },
  {
   "cell_type": "code",
   "execution_count": null,
   "metadata": {},
   "outputs": [],
   "source": [
    "#hide\n",
    "from fastcore.test import *\n",
    "from nbdev.showdoc import *"
   ]
  },
  {
   "cell_type": "code",
   "execution_count": null,
   "metadata": {},
   "outputs": [],
   "source": [
    "#export\n",
    "\n",
    "import numpy as np\n",
    "from fastai.basics import *"
   ]
  },
  {
   "cell_type": "code",
   "execution_count": null,
   "metadata": {},
   "outputs": [],
   "source": [
    "#export\n",
    "def log_training_dataset(df, wandb_enabled=False):\n",
    "    train_dataframe = df[['video_name', 'frames', 'scene', 'label', 'distortion', 'severity', 'is_valid']]\n",
    "    path = 'train_dataframe.json'\n",
    "    train_dataframe.to_json(path, orient='records')\n",
    "    if wandb_enabled:\n",
    "        import wandb\n",
    "        artifact = wandb.Artifact('train_dataframe', type='dataset')\n",
    "        artifact.add_file(path)\n",
    "        wandb_run.log_artifact(artifact)\n",
    "        wandb.log(dict(\n",
    "            df=wandb.Table(dataframe=train_dataframe),\n",
    "        ))\n",
    "    return path"
   ]
  },
  {
   "cell_type": "code",
   "execution_count": null,
   "metadata": {},
   "outputs": [],
   "source": [
    "#export\n",
    "import json\n",
    "\n",
    "def log_model_evaluation(clf_report, scores, wandb_enabled=False):\n",
    "    clf_report_path = 'classification_report.txt'\n",
    "    with open(path, 'w') as f:\n",
    "        f.write(clf_report)\n",
    "    \n",
    "    scores_path = 'scores.json'\n",
    "    with open(scores_path, 'w') as f:\n",
    "        json.dump(scores, f)\n",
    "    \n",
    "    if wandb_enabled:\n",
    "        import wandb\n",
    "\n",
    "        artifact = wandb.Artifact('classification_report', type='perf')\n",
    "        artifact.add_file(clf_report_path)\n",
    "        wandb_run.log_artifact(artifact)\n",
    "\n",
    "        artifact = wandb.Artifact('scores', type='perf')\n",
    "        artifact.add_file(scores_path)\n",
    "        wandb_run.log_artifact(artifact)\n",
    "\n",
    "        wandb.config.update(scores)\n",
    "    \n",
    "    return clf_report_path, scores_path"
   ]
  },
  {
   "cell_type": "code",
   "execution_count": null,
   "metadata": {},
   "outputs": [],
   "source": [
    "#export\n",
    "def log_preds_for_competition(preds, wandb_enabled=False):\n",
    "    path = 'predict.txt'\n",
    "    with open(path, 'w') as f:\n",
    "        f.write('\\n'.join(preds))\n",
    "    if wandb_enabled:\n",
    "        import wandb\n",
    "        artifact = wandb.Artifact('test-predictions', type='perf')\n",
    "        artifact.add_file(path)\n",
    "        wandb_run.log_artifact(artifact)\n",
    "    return path"
   ]
  },
  {
   "cell_type": "code",
   "execution_count": null,
   "metadata": {},
   "outputs": [],
   "source": []
  }
 ],
 "metadata": {
  "kernelspec": {
   "display_name": "Python 3.9.12 ('vqa')",
   "language": "python",
   "name": "python3"
  }
 },
 "nbformat": 4,
 "nbformat_minor": 2
}
