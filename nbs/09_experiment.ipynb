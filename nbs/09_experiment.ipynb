{
 "cells": [
  {
   "cell_type": "code",
   "execution_count": null,
   "metadata": {},
   "outputs": [],
   "source": [
    "# default_exp experiment"
   ]
  },
  {
   "cell_type": "markdown",
   "metadata": {},
   "source": [
    "# Experiment utils"
   ]
  },
  {
   "cell_type": "code",
   "execution_count": null,
   "metadata": {},
   "outputs": [],
   "source": [
    "#hide\n",
    "from fastcore.test import *\n",
    "from nbdev.showdoc import *"
   ]
  },
  {
   "cell_type": "code",
   "execution_count": null,
   "metadata": {},
   "outputs": [],
   "source": [
    "#export\n",
    "from pathlib import Path\n",
    "\n",
    "import numpy as np\n",
    "import pandas as pd\n",
    "from fastai.basics import *\n",
    "\n",
    "from vqa.utils import generate_time_id\n",
    "from vqa.wrangling import prepare_train_dataframe"
   ]
  },
  {
   "cell_type": "code",
   "execution_count": null,
   "metadata": {},
   "outputs": [],
   "source": [
    "#export\n",
    "def log_training_dataset(df, wandb_run=None):\n",
    "    train_dataframe = df[['video_name', 'frames', 'scene', 'label', 'distortion', 'severity', 'is_valid']]\n",
    "    path = 'train_dataframe.json'\n",
    "    train_dataframe.to_json(path, orient='records')\n",
    "    if wandb_run:\n",
    "        import wandb\n",
    "        artifact = wandb.Artifact('train_dataframe', type='dataset')\n",
    "        artifact.add_file(path)\n",
    "        wandb_run.log_artifact(artifact)\n",
    "        wandb.log(dict(\n",
    "            df=wandb.Table(dataframe=train_dataframe),\n",
    "        ))\n",
    "    return path"
   ]
  },
  {
   "cell_type": "code",
   "execution_count": null,
   "metadata": {},
   "outputs": [],
   "source": [
    "#export\n",
    "import json\n",
    "\n",
    "def log_model_evaluation(clf_report, scores, wandb_run=None):\n",
    "    clf_report_path = 'classification_report.txt'\n",
    "    with open(clf_report_path, 'w') as f:\n",
    "        f.write(clf_report)\n",
    "    \n",
    "    scores_path = 'scores.json'\n",
    "    with open(scores_path, 'w') as f:\n",
    "        json.dump(scores, f)\n",
    "    \n",
    "    if wandb_run:\n",
    "        import wandb\n",
    "\n",
    "        artifact = wandb.Artifact('classification_report', type='perf')\n",
    "        artifact.add_file(clf_report_path)\n",
    "        wandb_run.log_artifact(artifact)\n",
    "\n",
    "        artifact = wandb.Artifact('scores', type='perf')\n",
    "        artifact.add_file(scores_path)\n",
    "        wandb_run.log_artifact(artifact)\n",
    "\n",
    "        wandb.config.update(scores)\n",
    "    \n",
    "    return clf_report_path, scores_path"
   ]
  },
  {
   "cell_type": "code",
   "execution_count": null,
   "metadata": {},
   "outputs": [],
   "source": [
    "#export\n",
    "def log_preds_for_competition(preds, wandb_run=None):\n",
    "    path = 'predict.txt'\n",
    "    with open(path, 'w') as f:\n",
    "        f.write('\\n'.join(preds))\n",
    "    if wandb_run:\n",
    "        import wandb\n",
    "        artifact = wandb.Artifact('test-predictions', type='perf')\n",
    "        artifact.add_file(path)\n",
    "        wandb_run.log_artifact(artifact)\n",
    "    return path"
   ]
  },
  {
   "cell_type": "code",
   "execution_count": null,
   "metadata": {},
   "outputs": [],
   "source": [
    "#export\n",
    "def make_experiment_dir(root='./experiments', name=None):\n",
    "    name = name or generate_time_id()\n",
    "    experiment_dir = Path(root) / name\n",
    "    experiment_dir.mkdir(parents=True, exist_ok=True)\n",
    "    return experiment_dir"
   ]
  },
  {
   "cell_type": "code",
   "execution_count": null,
   "metadata": {},
   "outputs": [],
   "source": [
    "#export\n",
    "def make_dataframes(train_dataframe_path, train_dir, tst_dir, frame_indices_list, drop_reference):\n",
    "    df = pd.read_json(train_dataframe_path)\n",
    "    df['label'] = df['label'].replace('R_0', 'R0_0') # todo: remove this line after updating dataset on kaggle\n",
    "    df = prepare_train_dataframe(df, train_dir, frame_indices_list, drop_reference)\n",
    "    tst_df = make_test_dataframe(tst_dir, frame_indices_list)\n",
    "    return df, tst_df"
   ]
  }
 ],
 "metadata": {
  "kernelspec": {
   "display_name": "Python 3.9.12 ('vqa')",
   "language": "python",
   "name": "python3"
  }
 },
 "nbformat": 4,
 "nbformat_minor": 2
}
