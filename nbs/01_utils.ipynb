{
 "cells": [
  {
   "cell_type": "code",
   "execution_count": null,
   "metadata": {},
   "outputs": [],
   "source": [
    "# default_exp utils"
   ]
  },
  {
   "cell_type": "markdown",
   "metadata": {},
   "source": [
    "# Utilities"
   ]
  },
  {
   "cell_type": "code",
   "execution_count": null,
   "metadata": {},
   "outputs": [],
   "source": [
    "#hide\n",
    "from fastcore.test import *\n",
    "from nbdev.showdoc import *"
   ]
  },
  {
   "cell_type": "code",
   "execution_count": null,
   "metadata": {},
   "outputs": [],
   "source": [
    "#export\n",
    "\n",
    "from pathlib import Path\n",
    "from fastcore.basics import patch"
   ]
  },
  {
   "cell_type": "code",
   "execution_count": null,
   "metadata": {},
   "outputs": [],
   "source": [
    "#export\n",
    "\n",
    "@patch\n",
    "def ls_sorted(self:Path):\n",
    "    \"ls but sorts files by name numerically\"\n",
    "    return self.ls().sorted(key=lambda f: int(f.with_suffix('').name))"
   ]
  },
  {
   "cell_type": "code",
   "execution_count": null,
   "metadata": {},
   "outputs": [],
   "source": [
    "#export\n",
    "\n",
    "def flatten_dict(d: dict):\n",
    "    \"\"\"flattens a nested dict one level\"\"\"\n",
    "    def func(dct):\n",
    "        for k, v in dct.items():\n",
    "            if isinstance(v, dict):\n",
    "                yield from v.items()\n",
    "            else:\n",
    "                yield k, v\n",
    "    return dict(func(d))"
   ]
  },
  {
   "cell_type": "code",
   "execution_count": null,
   "metadata": {},
   "outputs": [],
   "source": [
    "#hide\n",
    "actual = flatten_dict(dict(a=1,b=2,c=dict(d=3,e=4),f=dict(g=dict(h=5,i=6))))\n",
    "test_eq(actual, {'a': 1, 'b': 2, 'd': 3, 'e': 4, 'g': {'h': 5, 'i': 6}})"
   ]
  },
  {
   "cell_type": "code",
   "execution_count": null,
   "metadata": {},
   "outputs": [],
   "source": [
    "#export\n",
    "from collections import Counter\n",
    "\n",
    "def most_common(lst):\n",
    "    return Counter(lst).most_common(1)[0][0]"
   ]
  },
  {
   "cell_type": "code",
   "execution_count": null,
   "metadata": {},
   "outputs": [],
   "source": [
    "#hide\n",
    "test_eq(most_common([1,1,1,2,2,3,3,3,3,4,4]), 3)\n",
    "test_eq(most_common([1,1,1,2,2,3,3,3,4,4]), 1)\n",
    "test_eq(most_common([0]), 0)"
   ]
  },
  {
   "cell_type": "code",
   "execution_count": null,
   "metadata": {},
   "outputs": [],
   "source": [
    "#export\n",
    "\n",
    "def get_node(tree: dict, path: str, sep: str = '.'):\n",
    "    if path is None or path == '':\n",
    "        return tree\n",
    "    fields = path.split(sep)\n",
    "    node = tree\n",
    "    for field in fields:\n",
    "        node = node[field]\n",
    "    return node\n"
   ]
  },
  {
   "cell_type": "code",
   "execution_count": null,
   "metadata": {},
   "outputs": [],
   "source": [
    "#hide\n",
    "tree = {\n",
    "    'a': 1,\n",
    "    'b': {\n",
    "        'c': {\n",
    "            'd': 2,\n",
    "        },\n",
    "        'e': 3,\n",
    "    },\n",
    "    'f': 4,\n",
    "}\n",
    "\n",
    "test_eq(get_node(tree, 'a'), 1)\n",
    "test_eq(get_node(tree, 'b.c.d'), 2)\n",
    "test_eq(get_node(tree, 'b.e'), 3)\n",
    "test_eq(get_node(tree, 'b/e', sep='/'), 3)\n",
    "test_eq(get_node(tree, None), tree)"
   ]
  },
  {
   "cell_type": "code",
   "execution_count": null,
   "metadata": {},
   "outputs": [],
   "source": [
    "#export\n",
    "def apply_nested(tree: dict, path: str, func, sep: str = '.'):\n",
    "    parts = path.split(sep)\n",
    "    parent_node = get_node(tree, sep.join(parts[:-1]))\n",
    "    parent_node[parts[-1]] = func(parent_node[parts[-1]])\n",
    "    return tree"
   ]
  },
  {
   "cell_type": "code",
   "execution_count": null,
   "metadata": {},
   "outputs": [],
   "source": [
    "#hide\n",
    "tree = {\n",
    "    'a': 5,\n",
    "    'b': {\n",
    "        'c': {\n",
    "            'd': 2,\n",
    "        },\n",
    "        'e': 3,\n",
    "    },\n",
    "    'f': 4,\n",
    "}\n",
    "\n",
    "func = lambda x: x*x\n",
    "\n",
    "for path in ['a', 'b.c.d', 'f']:\n",
    "    apply_nested(tree, path, func)\n",
    "\n",
    "test_eq(tree['a'], 25)\n",
    "test_eq(tree['b']['c']['d'], 4)\n",
    "test_eq(tree['b']['e'], 3)\n",
    "test_eq(tree['f'], 16)"
   ]
  },
  {
   "cell_type": "code",
   "execution_count": null,
   "metadata": {},
   "outputs": [],
   "source": [
    "#export\n",
    "from pathlib import Path\n",
    "\n",
    "def resolve_path(config, field_path, sep='.'):\n",
    "    func = lambda s: str(Path(s).resolve())\n",
    "    return apply_nested(config, field_path, func, sep)"
   ]
  },
  {
   "cell_type": "code",
   "execution_count": null,
   "metadata": {},
   "outputs": [],
   "source": [
    "#hide\n",
    "config = {\n",
    "    'data_path': './a/b/c',\n",
    "    'model': {\n",
    "        'save_path': './path/to/artifact'\n",
    "    }\n",
    "}\n",
    "\n",
    "resolve_path(config, 'data_path')\n",
    "resolve_path(config, 'model.save_path')\n",
    "\n",
    "assert not config['data_path'].startswith('.')\n",
    "assert not config['model']['save_path'].startswith('.')"
   ]
  },
  {
   "cell_type": "code",
   "execution_count": null,
   "metadata": {},
   "outputs": [],
   "source": []
  }
 ],
 "metadata": {
  "kernelspec": {
   "display_name": "Python 3.9.12 ('vqa')",
   "language": "python",
   "name": "python3"
  }
 },
 "nbformat": 4,
 "nbformat_minor": 2
}
