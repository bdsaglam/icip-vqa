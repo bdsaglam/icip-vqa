{
 "cells": [
  {
   "cell_type": "code",
   "execution_count": null,
   "metadata": {},
   "outputs": [],
   "source": [
    "# default_exp utils"
   ]
  },
  {
   "cell_type": "markdown",
   "metadata": {},
   "source": [
    "# Utilities"
   ]
  },
  {
   "cell_type": "code",
   "execution_count": null,
   "metadata": {},
   "outputs": [],
   "source": [
    "#hide\n",
    "from fastcore.test import *\n",
    "from nbdev.showdoc import *"
   ]
  },
  {
   "cell_type": "code",
   "execution_count": null,
   "metadata": {},
   "outputs": [],
   "source": [
    "#export\n",
    "\n",
    "from pathlib import Path\n",
    "from fastcore.basics import patch"
   ]
  },
  {
   "cell_type": "code",
   "execution_count": null,
   "metadata": {},
   "outputs": [],
   "source": [
    "#export\n",
    "\n",
    "@patch\n",
    "def ls_sorted(self:Path):\n",
    "    \"ls but sorts files by name numerically\"\n",
    "    return self.ls().sorted(key=lambda f: int(f.with_suffix('').name))"
   ]
  },
  {
   "cell_type": "code",
   "execution_count": null,
   "metadata": {},
   "outputs": [],
   "source": [
    "#export\n",
    "\n",
    "def flatten_dict(d: dict):\n",
    "    \"\"\"flattens a nested dict one level\"\"\"\n",
    "    def func(dct):\n",
    "        for k, v in dct.items():\n",
    "            if isinstance(v, dict):\n",
    "                yield from v.items()\n",
    "            else:\n",
    "                yield k, v\n",
    "    return dict(func(d))"
   ]
  },
  {
   "cell_type": "code",
   "execution_count": null,
   "metadata": {},
   "outputs": [],
   "source": [
    "#hide\n",
    "actual = flatten_dict(dict(a=1,b=2,c=dict(d=3,e=4),f=dict(g=dict(h=5,i=6))))\n",
    "test_eq(actual, {'a': 1, 'b': 2, 'd': 3, 'e': 4, 'g': {'h': 5, 'i': 6}})"
   ]
  },
  {
   "cell_type": "code",
   "execution_count": null,
   "metadata": {},
   "outputs": [],
   "source": [
    "#export\n",
    "from collections import Counter\n",
    "\n",
    "def most_common(lst):\n",
    "    return Counter(lst).most_common(1)[0][0]"
   ]
  },
  {
   "cell_type": "code",
   "execution_count": null,
   "metadata": {},
   "outputs": [],
   "source": [
    "#hide\n",
    "test_eq(most_common([1,1,1,2,2,3,3,3,3,4,4]), 3)\n",
    "test_eq(most_common([1,1,1,2,2,3,3,3,4,4]), 1)\n",
    "test_eq(most_common([0]), 0)"
   ]
  },
  {
   "cell_type": "code",
   "execution_count": null,
   "metadata": {},
   "outputs": [],
   "source": []
  }
 ],
 "metadata": {
  "kernelspec": {
   "display_name": "Python 3.9.12 ('vqa')",
   "language": "python",
   "name": "python3"
  }
 },
 "nbformat": 4,
 "nbformat_minor": 2
}
