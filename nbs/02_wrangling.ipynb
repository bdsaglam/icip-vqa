{
 "cells": [
  {
   "cell_type": "code",
   "execution_count": null,
   "metadata": {},
   "outputs": [],
   "source": [
    "#default_exp wrangling"
   ]
  },
  {
   "cell_type": "markdown",
   "metadata": {},
   "source": [
    "# Data wrangling\n",
    "> Data wrangling related functionality"
   ]
  },
  {
   "cell_type": "code",
   "execution_count": null,
   "metadata": {},
   "outputs": [],
   "source": [
    "#hide\n",
    "from fastcore.test import *\n",
    "from nbdev.showdoc import *"
   ]
  },
  {
   "cell_type": "code",
   "execution_count": null,
   "metadata": {},
   "outputs": [],
   "source": [
    "#export\n",
    "from pathlib import Path\n",
    "import pandas as pd"
   ]
  },
  {
   "cell_type": "code",
   "execution_count": null,
   "metadata": {},
   "outputs": [],
   "source": [
    "#export\n",
    "import re\n",
    "\n",
    "_pattern = re.compile('_(D\\d)')\n",
    "def parse_distortion_severity(video_name):\n",
    "    distortions = _pattern.findall(video_name)\n",
    "    if len(distortions)==0: # reference video\n",
    "        return 'D0', 'S0'\n",
    "    sev_level = int(video_name[-1])\n",
    "    assert sev_level in {1,2,3,4,5}\n",
    "    return '_'.join(distortions), f\"S{sev_level}\"\n",
    "\n",
    "test_eq(('D0', 'S0'), parse_distortion_severity('Airport'))\n",
    "test_eq(('D9', 'S1'), parse_distortion_severity('Airport_D9_1'))\n",
    "test_eq(('D3_D5', 'S1'), parse_distortion_severity('Airport_D3_2_D5_1'))\n",
    "test_eq(('D2_D7_D9', 'S4'), parse_distortion_severity('Airport_D2_D7_D9_4'))"
   ]
  },
  {
   "cell_type": "code",
   "execution_count": null,
   "metadata": {},
   "outputs": [],
   "source": [
    "#export\n",
    "\n",
    "def parse_scene(video_name):\n",
    "    return video_name.split(\"_D\", 1)[0].lower()\n",
    "\n",
    "test_eq('airport', parse_scene('Airport'))\n",
    "test_eq('airport', parse_scene('Airport_D2_D7_D9_4'))\n",
    "test_eq('airport', parse_scene('Airport_D2_3_D9_4'))"
   ]
  },
  {
   "cell_type": "code",
   "execution_count": null,
   "metadata": {},
   "outputs": [],
   "source": [
    "#export\n",
    "def label_dataframe(df):\n",
    "    df['scene'] = df['video_name'].apply(parse_scene)\n",
    "    df['raw_label'] = df['video_name'].apply(parse_distortion_severity)\n",
    "    df['distortion'] = df['raw_label'].apply(lambda t: t[0])\n",
    "    df['severity'] = df['raw_label'].apply(lambda t: t[1])\n",
    "    return df"
   ]
  },
  {
   "cell_type": "code",
   "execution_count": null,
   "metadata": {},
   "outputs": [],
   "source": [
    "#export\n",
    "from sklearn.model_selection import train_test_split\n",
    "\n",
    "def make_dataframe_splitter(valid_pct, strata='raw_label'):\n",
    "    def stratified_split(df):\n",
    "        _, val_index = train_test_split(df.index, test_size=valid_pct, stratify=df[strata])\n",
    "        df['is_valid'] = False\n",
    "        df.loc[val_index, 'is_valid'] = True\n",
    "        return df\n",
    "    return stratified_split"
   ]
  },
  {
   "cell_type": "code",
   "execution_count": null,
   "metadata": {},
   "outputs": [],
   "source": [
    "#export\n",
    "def populate_frames(df, frame_indices_list):\n",
    "    for frame_indices in frame_indices_list:\n",
    "        df = df.copy()\n",
    "        df['frames'] = [frame_indices]*len(df)\n",
    "        df['frame_paths'] = df['video_path'].apply(lambda vn: [str(Path(vn) / f\"{i}.jpg\") for i in frame_indices])\n",
    "        yield df\n",
    "\n",
    "def make_framer(frame_indices_list):\n",
    "    return lambda dataf: pd.concat(list(populate_frames(dataf, frame_indices_list)), axis=0)"
   ]
  },
  {
   "cell_type": "code",
   "execution_count": null,
   "metadata": {},
   "outputs": [],
   "source": [
    "#export\n",
    "\n",
    "def remove_corrupt_video_frames(df):\n",
    "    video_names = [\n",
    "     'Concorde_place_D1_D5_1',\n",
    "     'Concorde_place_D6_1',\n",
    "     'Concorde_place_D1_D5_4',\n",
    "     'Concorde_place_D1_D5_3',\n",
    "     'Concorde_place_D1_D5_2',\n",
    "     'Concorde_place_D6_2',\n",
    "     'Concorde_place_D6_3',\n",
    "     'Concorde_place_D6_4'\n",
    "    ]\n",
    "    tbd_idx = tbd_idx = df['video_name'].isin(video_names) & df['frames'].apply(lambda seq: max(seq) > 33)\n",
    "    return df[~tbd_idx].copy()"
   ]
  },
  {
   "cell_type": "code",
   "execution_count": null,
   "metadata": {},
   "outputs": [],
   "source": [
    "#export\n",
    "\n",
    "def make_dataframe(root):\n",
    "    df = pd.DataFrame(data=dict(video_path=[str(p) for p in sorted(root.ls())]))\n",
    "    df['video_name'] = df['video_path'].apply(lambda p: Path(p).name)\n",
    "    return df"
   ]
  },
  {
   "cell_type": "code",
   "execution_count": null,
   "metadata": {},
   "outputs": [],
   "source": [
    "#export\n",
    "\n",
    "def make_train_dataframe(root, valid_pct, frame_indices_list):\n",
    "    return (\n",
    "        make_dataframe(root)\n",
    "        .pipe(label_dataframe)\n",
    "        .pipe(make_df_splitter(valid_pct))\n",
    "        .pipe(make_framer(frame_indices_list))\n",
    "        .pipe(remove_corrupt_video_frames)\n",
    "    )\n"
   ]
  },
  {
   "cell_type": "code",
   "execution_count": null,
   "metadata": {},
   "outputs": [],
   "source": [
    "#export\n",
    "\n",
    "def assert_stratied_split(df, label_col):\n",
    "    train_df, val_df = df[~df['is_valid']], df[df['is_valid']]\n",
    "    ratio = len(val_df) / len(train_df)\n",
    "    label_freqs = pd.concat([train_df[label_col].value_counts(), val_df[label_col].value_counts() ], axis=1, join='outer')\n",
    "    label_freqs.columns=['train', 'val']\n",
    "    label_freqs['ratio'] = (label_freqs['val'] / label_freqs['train']).apply(abs)\n",
    "    # assert that difference in class counts is less than 1% of dataset size\n",
    "    assert ratio - 0.02 < label_freqs['ratio'].mean() < ratio + 0.02, label_freqs['ratio'].min()"
   ]
  }
 ],
 "metadata": {
  "kernelspec": {
   "display_name": "Python 3.9.12 ('vqa')",
   "language": "python",
   "name": "python3"
  }
 },
 "nbformat": 4,
 "nbformat_minor": 2
}
