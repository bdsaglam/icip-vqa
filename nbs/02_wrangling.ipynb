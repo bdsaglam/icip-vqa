{
 "cells": [
  {
   "cell_type": "code",
   "execution_count": null,
   "metadata": {},
   "outputs": [],
   "source": [
    "#default_exp wrangling"
   ]
  },
  {
   "cell_type": "markdown",
   "metadata": {},
   "source": [
    "# Data wrangling"
   ]
  },
  {
   "cell_type": "code",
   "execution_count": null,
   "metadata": {},
   "outputs": [],
   "source": [
    "#hide\n",
    "\n",
    "from fastcore.test import *\n",
    "from nbdev.showdoc import *"
   ]
  },
  {
   "cell_type": "code",
   "execution_count": null,
   "metadata": {},
   "outputs": [],
   "source": [
    "#export\n",
    "from pathlib import Path\n",
    "import pandas as pd\n",
    "from fastcore.basics import *\n",
    "from fastcore.xtras import *\n",
    "\n",
    "from vqa.utils import most_common"
   ]
  },
  {
   "cell_type": "code",
   "execution_count": null,
   "metadata": {},
   "outputs": [],
   "source": [
    "#export\n",
    "from pathlib import Path\n",
    "import pandas as pd\n",
    "from fastcore.basics import *\n",
    "\n",
    "from vqa.utils import most_common"
   ]
  },
  {
   "cell_type": "code",
   "execution_count": null,
   "metadata": {},
   "outputs": [],
   "source": [
    "#export \n",
    "import re\n",
    "\n",
    "_disto_pattern = re.compile('_(D\\d)')\n",
    "_sev_pattern = re.compile('_(\\d)')\n",
    "def parse_distortion_severity(video_name):\n",
    "    distortions = disto_pattern.findall(video_name)\n",
    "    sevs = sev_pattern.findall(video_name)\n",
    "    if len(distortions)==0: # reference video\n",
    "        return []\n",
    "    if len(sevs)==1:\n",
    "        sevs = sevs*len(distortions)\n",
    "    assert len(distortions)==len(sevs)\n",
    "    sevs = [int(sev) for sev in sevs] \n",
    "    return sorted(f\"{disto}_{sev}\" for disto, sev in zip(distortions, sevs))\n",
    "\n",
    "def parse_scene(video_name):\n",
    "    return video_name.split(\"_D\", 1)[0].lower()"
   ]
  },
  {
   "cell_type": "code",
   "execution_count": null,
   "metadata": {},
   "outputs": [],
   "source": [
    "#hide\n",
    "test_eq([], parse_distortion_severity('Airport'))\n",
    "test_eq(['D9_1'], parse_distortion_severity('Airport_D9_1'))\n",
    "test_eq(['D1_2', 'D3_2'], parse_distortion_severity('Airport_D3_D1_2'))\n",
    "test_eq(['D3_2', 'D5_1'], parse_distortion_severity('Airport_D3_2_D5_1'))\n",
    "test_eq(['D2_4', 'D7_4', 'D9_4'], parse_distortion_severity('Airport_D2_D7_D9_4'))"
   ]
  },
  {
   "cell_type": "code",
   "execution_count": null,
   "metadata": {},
   "outputs": [],
   "source": [
    "#hide\n",
    "test_eq('airport', parse_scene('Airport'))\n",
    "test_eq('airport', parse_scene('Airport_D2_D7_D9_4'))\n",
    "test_eq('airport', parse_scene('Airport_D2_3_D9_4'))"
   ]
  },
  {
   "cell_type": "code",
   "execution_count": null,
   "metadata": {},
   "outputs": [],
   "source": [
    "#export\n",
    "def label_dataframe(df):\n",
    "    df['scene'] = df['video_name'].apply(parse_scene)\n",
    "    df['label'] = df['video_name'].apply(parse_distortion_severity).apply(lambda labels: 'R_0' if len(labels)==0 else ','.join(labels))\n",
    "    df['distortion'] = df['label'].apply(lambda s: '_'.join(ds.split('_')[0] for ds in s.split(',')))\n",
    "    df['severity'] = df['label'].apply(lambda s: most_common(ds.split('_')[1] for ds in s.split(',')))\n",
    "    return df"
   ]
  },
  {
   "cell_type": "code",
   "execution_count": null,
   "metadata": {},
   "outputs": [],
   "source": [
    "#hide\n",
    "df = pd.DataFrame(['Airport', 'Landing_plane_D2_D3_1',  'Airport_D2_3_D9_1', 'Bus_Stop_D2_D5_D9_2'], columns=['video_name'])\n",
    "ldf = df.pipe(label_dataframe)\n",
    "test_eq(ldf['scene'].values, ['airport', 'landing_plane', 'airport', 'bus_stop'])\n",
    "test_eq(ldf['label'].values, ['R_0', 'D2_1,D3_1', 'D2_3,D9_1', 'D2_2,D5_2,D9_2'])\n",
    "test_eq(ldf['distortion'].values, ['R', 'D2_D3', 'D2_D9', 'D2_D5_D9'])\n",
    "test_eq(ldf['severity'].values, ['0', '1', '3', '2'])"
   ]
  },
  {
   "cell_type": "code",
   "execution_count": null,
   "metadata": {},
   "outputs": [],
   "source": [
    "#export\n",
    "\n",
    "from sklearn.model_selection import train_test_split\n",
    "\n",
    "def make_dataframe_splitter(valid_pct, strata='label'):\n",
    "    def stratified_split(df):\n",
    "        _, val_index = train_test_split(df.index, test_size=valid_pct, stratify=df[strata])\n",
    "        df['is_valid'] = False\n",
    "        df.loc[val_index, 'is_valid'] = True\n",
    "        return df\n",
    "    return stratified_split"
   ]
  },
  {
   "cell_type": "code",
   "execution_count": null,
   "metadata": {},
   "outputs": [],
   "source": [
    "#export\n",
    "\n",
    "def populate_frames(df, frame_indices_list):\n",
    "    for frame_indices in frame_indices_list:\n",
    "        df = df.copy()\n",
    "        df['frames'] = [frame_indices]*len(df)\n",
    "        df['frame_paths'] = df['video_path'].apply(lambda vn: [str(Path(vn) / f\"{i}.jpg\") for i in frame_indices])\n",
    "        yield df\n",
    "\n",
    "def make_framer(frame_indices_list):\n",
    "    return lambda dataf: pd.concat(list(populate_frames(dataf, frame_indices_list)), axis=0)"
   ]
  },
  {
   "cell_type": "code",
   "execution_count": null,
   "metadata": {},
   "outputs": [],
   "source": [
    "#export\n",
    "\n",
    "def remove_corrupt_video_frames(df):\n",
    "    video_names = [\n",
    "     'Concorde_place_D1_D5_1',\n",
    "     'Concorde_place_D6_1',\n",
    "     'Concorde_place_D1_D5_4',\n",
    "     'Concorde_place_D1_D5_3',\n",
    "     'Concorde_place_D1_D5_2',\n",
    "     'Concorde_place_D6_2',\n",
    "     'Concorde_place_D6_3',\n",
    "     'Concorde_place_D6_4'\n",
    "    ]\n",
    "    tbd_idx = tbd_idx = df['video_name'].isin(video_names) & df['frames'].apply(lambda seq: max(seq) > 33)\n",
    "    return df[~tbd_idx].copy()"
   ]
  },
  {
   "cell_type": "code",
   "execution_count": null,
   "metadata": {},
   "outputs": [],
   "source": [
    "#export\n",
    "\n",
    "def make_dataframe(root):\n",
    "    video_paths = sorted([str(p) for p in root.ls() if not p.name.startswith('.')])\n",
    "    df = pd.DataFrame(data=dict(video_path=video_paths))\n",
    "    df['video_name'] = df['video_path'].apply(lambda p: Path(p).name)\n",
    "    return df"
   ]
  },
  {
   "cell_type": "code",
   "execution_count": null,
   "metadata": {},
   "outputs": [],
   "source": [
    "#export\n",
    "\n",
    "def make_train_dataframe(root, valid_pct, frame_indices_list):\n",
    "    return (\n",
    "        make_dataframe(root)\n",
    "        .pipe(label_dataframe)\n",
    "        .pipe(make_dataframe_splitter(valid_pct))\n",
    "        .pipe(make_framer(frame_indices_list))\n",
    "        .pipe(remove_corrupt_video_frames)\n",
    "    )"
   ]
  },
  {
   "cell_type": "code",
   "execution_count": null,
   "metadata": {},
   "outputs": [],
   "source": [
    "#export\n",
    "\n",
    "def assert_stratied_split(df, label_col):\n",
    "    train_df, val_df = df[~df['is_valid']], df[df['is_valid']]\n",
    "    ratio = len(val_df) / len(train_df)\n",
    "    label_freqs = pd.concat([train_df[label_col].value_counts(), val_df[label_col].value_counts() ], axis=1, join='outer')\n",
    "    label_freqs.columns=['train', 'val']\n",
    "    label_freqs['ratio'] = (label_freqs['val'] / label_freqs['train']).apply(abs)\n",
    "    # assert that difference in class counts is less than 1% of dataset size\n",
    "    assert ratio - 0.02 < label_freqs['ratio'].mean() < ratio + 0.02, label_freqs['ratio'].min()"
   ]
  },
  {
   "cell_type": "code",
   "execution_count": null,
   "metadata": {},
   "outputs": [],
   "source": [
    "#export\n",
    "\n",
    "def make_test_dataframe(root, frame_indices_list):\n",
    "    return (\n",
    "        make_dataframe(root)\n",
    "        .pipe(label_dataframe)\n",
    "        .pipe(make_framer(frame_indices_list))\n",
    "    )"
   ]
  }
 ],
 "metadata": {
  "kernelspec": {
   "display_name": "Python 3.9.12 ('vqa')",
   "language": "python",
   "name": "python3"
  }
 },
 "nbformat": 4,
 "nbformat_minor": 2
}
