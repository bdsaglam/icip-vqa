{
 "cells": [
  {
   "cell_type": "code",
   "execution_count": null,
   "metadata": {},
   "outputs": [],
   "source": [
    "# Video utilities"
   ]
  },
  {
   "cell_type": "code",
   "execution_count": null,
   "metadata": {},
   "outputs": [],
   "source": [
    "!pip install open-cv"
   ]
  },
  {
   "cell_type": "code",
   "execution_count": 1,
   "metadata": {},
   "outputs": [],
   "source": [
    "#export\n",
    "\n",
    "from pathlib import Path\n",
    "from fastai.vision.all import *\n",
    "\n",
    "import cv2\n",
    "\n",
    "def sample_frames(video_path, sample_interval, skip=0):\n",
    "    cap = cv2.VideoCapture(str(video_path))\n",
    "    i = -skip\n",
    "    while cap.isOpened():\n",
    "        ret, frame = cap.read()\n",
    "        if ret == False:\n",
    "            break\n",
    "        if i % sample_interval == 0:\n",
    "            yield frame\n",
    "        i += 1\n",
    "\n",
    "    cap.release()\n",
    "    cv2.destroyAllWindows()\n",
    "\n",
    "class Framer:\n",
    "    def __init__(self, dst, sample_interval, target_size=None):\n",
    "        self.dst = Path(dst)\n",
    "        self.sample_interval = sample_interval\n",
    "        self.target_size = target_size\n",
    "    \n",
    "    def __call__(self, video_path):\n",
    "        out_dir = self.dst / Path(video_path).stem\n",
    "        out_dir.mkdir(exist_ok=True, parents=True)\n",
    "        for i, frame in enumerate(sample_frames(video_path, self.sample_interval)):\n",
    "            filepath = out_dir / f\"{i}.jpg\"\n",
    "            if self.target_size:\n",
    "                frame = cv2.resize(frame, target_size, interpolation = cv2.INTER_CUBIC)\n",
    "            cv2.imwrite(str(filepath), frame)\n",
    "        \n",
    "    def new(self, *, dst=None, sample_interval=None, target_size=None):\n",
    "        dst = self.dst if dst is None else dst\n",
    "        sample_interval = self.sample_interval if sample_interval is None else sample_interval\n",
    "        target_size = self.target_size if target_size is None else target_size\n",
    "        return self.__class__(dst=dst, sample_interval=sample_interval, target_size=target_size)\n"
   ]
  },
  {
   "cell_type": "code",
   "execution_count": 5,
   "metadata": {},
   "outputs": [
    {
     "name": "stderr",
     "output_type": "stream",
     "text": [
      "100%|██████████| 224/224 [06:49<00:00,  1.83s/it]\n"
     ]
    }
   ],
   "source": [
    "# sample frames from videos\n",
    "from tqdm import tqdm\n",
    "\n",
    "k = 4\n",
    "target_size = (1920 // k, 1080 // k)\n",
    "\n",
    "dataset_dir = Path('/Volumes/SeagateHalf/icip-2022/v2')\n",
    "frame_dir = dataset_dir / 'frames' / f'{target_size[0]}x{target_size[1]}'\n",
    "\n",
    "extensions = ['.mp4', '.avi']\n",
    "for src_name, dst_name  in [('train-videos', 'train-frames'), ('test-videos', 'test-frames')]:\n",
    "    dst = frame_dir / dst_name\n",
    "    framify = Framer(dst, 6, target_size=target_size)\n",
    "    video_paths = get_files(dataset_dir / src_name, extensions)\n",
    "    for video_path in tqdm(video_paths):\n",
    "        framify(video_path)"
   ]
  },
  {
   "cell_type": "markdown",
   "metadata": {},
   "source": [
    "Most of the videos are 10s longs but some are 5s long. So we extend them to 10s by rewinding it backward."
   ]
  },
  {
   "cell_type": "code",
   "execution_count": 15,
   "metadata": {},
   "outputs": [],
   "source": [
    "def extend_short_videos(directory, dry_run=False):\n",
    "    frames = sorted(get_files(directory, '.jpg'), key=lambda p: int(p.stem))\n",
    "    if not len(frames) < 50:\n",
    "        return\n",
    "    print(directory)\n",
    "    for i in range(int(frames[-1].stem) + 1, 50):\n",
    "        j = 49 - i\n",
    "        src = frames[j]\n",
    "        dst = src.parent / f\"{i}.jpg\"\n",
    "        print(f\"\\tCopying {src} to {dst}\")\n",
    "        if not dry_run:\n",
    "            shutil.copy(src, dst)"
   ]
  },
  {
   "cell_type": "code",
   "execution_count": null,
   "metadata": {},
   "outputs": [],
   "source": [
    "for directory in Path('/Volumes/SeagateHalf/icip-2022/v2/frames/480x270/test_frames').glob('*'):\n",
    "    if not directory.is_dir():\n",
    "        continue\n",
    "    extend_short_videos(directory, dry_run=False)"
   ]
  },
  {
   "cell_type": "code",
   "execution_count": null,
   "metadata": {},
   "outputs": [],
   "source": []
  }
 ],
 "metadata": {
  "interpreter": {
   "hash": "8b899cb637f810eb42b8158e59321ed42fd4462e86104d67119882cd7b208a85"
  },
  "kernelspec": {
   "display_name": "Python 3.9.7 ('mmi711-icip')",
   "language": "python",
   "name": "python3"
  },
  "language_info": {
   "codemirror_mode": {
    "name": "ipython",
    "version": 3
   },
   "file_extension": ".py",
   "mimetype": "text/x-python",
   "name": "python",
   "nbconvert_exporter": "python",
   "pygments_lexer": "ipython3",
   "version": "3.9.7"
  },
  "orig_nbformat": 4
 },
 "nbformat": 4,
 "nbformat_minor": 2
}
