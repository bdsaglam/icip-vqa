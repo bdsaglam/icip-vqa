{
 "cells": [
  {
   "cell_type": "code",
   "execution_count": null,
   "metadata": {},
   "outputs": [],
   "source": [
    "# Video utilities"
   ]
  },
  {
   "cell_type": "code",
   "execution_count": null,
   "metadata": {},
   "outputs": [],
   "source": [
    "!pip install open-cv"
   ]
  },
  {
   "cell_type": "code",
   "execution_count": null,
   "metadata": {},
   "outputs": [],
   "source": [
    "from pathlib import Path\n",
    "from fastai.vision.all import *\n",
    "\n",
    "import cv2\n",
    "\n",
    "def sample_frames(video_path, sample_interval, skip=0):\n",
    "    cap = cv2.VideoCapture(str(video_path))\n",
    "    i = -skip\n",
    "    while cap.isOpened():\n",
    "        ret, frame = cap.read()\n",
    "        if ret == False:\n",
    "            break\n",
    "        if i % sample_interval == 0:\n",
    "            yield frame\n",
    "        i += 1\n",
    "\n",
    "    cap.release()\n",
    "    cv2.destroyAllWindows()\n",
    "\n",
    "class Framer:\n",
    "    def __init__(self, dst, sample_interval, target_size=None):\n",
    "        self.dst = Path(dst)\n",
    "        self.sample_interval = sample_interval\n",
    "        self.target_size = target_size\n",
    "    \n",
    "    def __call__(self, video_path):\n",
    "        out_dir = self.dst / Path(video_path).stem\n",
    "        out_dir.mkdir(exist_ok=True, parents=True)\n",
    "        for i, frame in enumerate(sample_frames(video_path, self.sample_interval)):\n",
    "            filepath = out_dir / f\"{i}.jpg\"\n",
    "            if self.target_size:\n",
    "                frame = cv2.resize(frame, target_size, interpolation = cv2.INTER_CUBIC)\n",
    "            cv2.imwrite(str(filepath), frame)\n",
    "        \n",
    "    def new(self, *, dst=None, sample_interval=None, target_size=None):\n",
    "        dst = self.dst if dst is None else dst\n",
    "        sample_interval = self.sample_interval if sample_interval is None else sample_interval\n",
    "        target_size = self.target_size if target_size is None else target_size\n",
    "        return self.__class__(dst=dst, sample_interval=sample_interval, target_size=target_size)\n"
   ]
  },
  {
   "cell_type": "code",
   "execution_count": null,
   "metadata": {},
   "outputs": [],
   "source": [
    "def extend_short_videos(directory, dry_run=False):\n",
    "    frames = sorted(get_files(directory, '.jpg'), key=lambda p: int(p.stem))\n",
    "    if not len(frames) < 50:\n",
    "        return\n",
    "    print(directory)\n",
    "    for i in range(int(frames[-1].stem) + 1, 50):\n",
    "        j = 49 - i\n",
    "        src = frames[j]\n",
    "        dst = src.parent / f\"{i}.jpg\"\n",
    "        print(f\"\\tCopying {src} to {dst}\")\n",
    "        if not dry_run:\n",
    "            shutil.copy(src, dst)"
   ]
  },
  {
   "cell_type": "code",
   "execution_count": null,
   "metadata": {},
   "outputs": [],
   "source": [
    "# samples frames from videos\n",
    "# most of the videos are 10s longs but a few are 5s long, \n",
    "# so we extend them to 10s by rewinding it backward.\n",
    "from tqdm import tqdm\n",
    "\n",
    "k = 4\n",
    "target_size = (1920 // k, 1080 // k)\n",
    "target_fps = 5\n",
    "\n",
    "dataset_dir = Path('path/to/video-dataset') # change here\n",
    "frame_dir = dataset_dir.parent / 'frames' / f'{target_size[0]}x{target_size[1]}'\n",
    "extensions = ['.mp4', '.avi']\n",
    "for src_name, dst_name  in [('train-videos', 'train-frames'), ('test-videos', 'test-frames')]:\n",
    "    dst = frame_dir / dst_name\n",
    "    framify = Framer(dst, 30 // target_fps, target_size=target_size)\n",
    "    video_paths = get_files(dataset_dir / src_name, extensions)\n",
    "    for video_path in tqdm(video_paths):\n",
    "        framify(video_path)\n",
    "    # extend short videos\n",
    "    for p in dst.glob('*'):\n",
    "        if not p.is_dir():\n",
    "            continue\n",
    "        extend_short_videos(p, dry_run=False)"
   ]
  },
  {
   "cell_type": "code",
   "execution_count": null,
   "metadata": {},
   "outputs": [],
   "source": []
  }
 ],
 "metadata": {
  "kernelspec": {
   "display_name": "Python 3.9.7 ('mmi711-icip')",
   "language": "python",
   "name": "python3"
  }
 },
 "nbformat": 4,
 "nbformat_minor": 2
}
